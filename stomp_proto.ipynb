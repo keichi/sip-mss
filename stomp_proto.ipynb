{
 "cells": [
  {
   "cell_type": "code",
   "execution_count": 1,
   "id": "646089a9-064a-4028-897e-ad7a2e0e9180",
   "metadata": {},
   "outputs": [],
   "source": [
    "import numpy as np\n",
    "import matplotlib.pyplot as plt\n",
    "\n",
    "np.random.seed(42)"
   ]
  },
  {
   "cell_type": "code",
   "execution_count": 2,
   "id": "632efe67-c756-47a4-93c2-ca3cad54fd47",
   "metadata": {},
   "outputs": [],
   "source": [
    "T = np.random.rand(100)\n",
    "# Q = np.random.rand(10)\n",
    "Q = T[:10]"
   ]
  },
  {
   "cell_type": "code",
   "execution_count": 3,
   "id": "a6482e71-f409-44f1-aa49-f2021e6f64f8",
   "metadata": {},
   "outputs": [],
   "source": [
    "n = T.shape[0]\n",
    "m = Q.shape[0]\n",
    "\n",
    "Ta = np.zeros(2 * n)\n",
    "Ta[:n] = T\n",
    "Qr = Q[::-1]\n",
    "Qra = np.zeros(2 * n)\n",
    "Qra[:m] = Qr\n",
    "Qraf = np.fft.fft(Qra)\n",
    "Taf = np.fft.fft(Ta)\n",
    "QT = np.fft.ifft(Qraf * Taf)\n",
    "QT = QT[m-1:n].real"
   ]
  },
  {
   "cell_type": "code",
   "execution_count": 4,
   "id": "6836bf5f-f0ed-4228-8a2c-209ff7bdc582",
   "metadata": {},
   "outputs": [],
   "source": [
    "assert np.allclose(np.convolve(Q[::-1], T, mode=\"valid\"), QT)"
   ]
  },
  {
   "cell_type": "code",
   "execution_count": 5,
   "id": "0f64c23a-6fc0-4435-9a97-755d43fa6c4f",
   "metadata": {},
   "outputs": [],
   "source": [
    "sum_T = 0.0\n",
    "sum_T_lag = 0.0\n",
    "sum_T2 = 0.0\n",
    "sum_T2_lag = 0.0\n",
    "\n",
    "mu = np.zeros(n - m + 1)\n",
    "sigma = np.zeros(n - m + 1)\n",
    "\n",
    "for k in range(n):\n",
    "    sum_T += T[k]\n",
    "    sum_T2 += T[k] * T[k]\n",
    "    \n",
    "    if k - m >= 0:\n",
    "        sum_T_lag += T[k - m]\n",
    "        sum_T2_lag += T[k - m] * T[k - m]\n",
    "    \n",
    "    mu[k - m + 1] = (sum_T - sum_T_lag) / m\n",
    "    sigma[k - m + 1] = np.sqrt((sum_T2 - sum_T2_lag) / m - mu[k - m + 1] * mu[k - m + 1])"
   ]
  },
  {
   "cell_type": "code",
   "execution_count": 6,
   "id": "7c5f6370-12fd-48b7-bf3f-f1ae17e1814e",
   "metadata": {},
   "outputs": [],
   "source": [
    "for i in range(n - m + 1):\n",
    "    assert np.isclose(np.mean(T[i:i+m]), mu[i])\n",
    "    assert np.isclose(np.std(T[i:i+m]), sigma[i])"
   ]
  },
  {
   "cell_type": "code",
   "execution_count": 69,
   "id": "c785a4d0-658e-44b5-8aff-1570ce8f03d6",
   "metadata": {},
   "outputs": [],
   "source": [
    "def calc_dist_profile(QT, m, mu, sigma, i):\n",
    "    return np.sqrt(2.0 * m * (1.0 - (QT - m * mu[i] * mu) / (m * sigma[i] * sigma)))"
   ]
  },
  {
   "cell_type": "code",
   "execution_count": 139,
   "id": "2b4d953e-b9a5-43e5-bcf2-6c731a3364ad",
   "metadata": {},
   "outputs": [
    {
     "name": "stderr",
     "output_type": "stream",
     "text": [
      "/var/folders/4c/plh3j1bd4w1gkmbfbb4qplq40000gn/T/ipykernel_42734/1318152817.py:2: RuntimeWarning: invalid value encountered in sqrt\n",
      "  return np.sqrt(2.0 * m * (1.0 - (QT - m * mu[i] * mu) / (m * sigma[i] * sigma)))\n"
     ]
    }
   ],
   "source": [
    "n = T.shape[0]\n",
    "m = Q.shape[0]\n",
    "excl_zone = int(np.ceil(m / 4))\n",
    "\n",
    "Ta = np.zeros(2 * n)\n",
    "Ta[:n] = T\n",
    "Qr = Q[::-1]\n",
    "Qra = np.zeros(2 * n)\n",
    "Qra[:m] = Qr\n",
    "Qraf = np.fft.fft(Qra)\n",
    "Taf = np.fft.fft(Ta)\n",
    "QT = np.fft.ifft(Qraf * Taf)\n",
    "QT = QT[m-1:n].real\n",
    "\n",
    "QT_first = QT.copy()\n",
    "\n",
    "\n",
    "D = calc_dist_profile(QT, m, mu, sigma, 0)\n",
    "\n",
    "for j in range(excl_zone):\n",
    "    D[j] = np.inf\n",
    "\n",
    "P = D\n",
    "\n",
    "for i in range(1, n - m + 1):\n",
    "# for i in range(1, 2):\n",
    "    for j in range(n - m, 0, -1):\n",
    "        QT[j] = QT[j - 1] - T[j - 1] * T[i - 1] + T[j + m - 1] * T[i + m - 1]\n",
    "    QT[0] = QT_first[i]\n",
    "\n",
    "    # Check sliding-window dot product is correct\n",
    "    assert np.allclose(np.convolve(T[i:i+m][::-1], T, mode=\"valid\"), QT)\n",
    "\n",
    "    D = calc_dist_profile(QT, m, mu, sigma, i)\n",
    "\n",
    "    # Apply exclusion zone\n",
    "    for j in range(i - excl_zone, i + excl_zone):\n",
    "        if 0 <= j < D.shape[0]:\n",
    "            D[j] = np.inf\n",
    "\n",
    "    P = np.minimum(P, D)\n",
    "\n",
    "    # Check distance profile (z-normalized Euclidean distance) is correct\n",
    "    TrueD = np.zeros_like(D)\n",
    "    for j in range(n - m + 1):\n",
    "        Ti, Tj = T[i:i+m], T[j:j+m]\n",
    "        Ti, Tj = (Ti - np.mean(Ti)) / np.std(Ti), (Tj - np.mean(Tj)) / np.std(Tj)\n",
    "        TrueD[j] = np.sqrt(np.sum((Ti - Tj) ** 2))\n",
    "\n",
    "        if i - excl_zone <= j < i + excl_zone:\n",
    "            TrueD[j] = np.inf\n",
    "\n",
    "    assert np.allclose(D, TrueD)"
   ]
  },
  {
   "cell_type": "code",
   "execution_count": 138,
   "id": "da93befb-e9a2-4383-a53e-fcc9d75d1d1a",
   "metadata": {},
   "outputs": [],
   "source": [
    "TrueP = np.array(stumpy.stump(T, m=10)[:, 0]).astype(np.float64)\n",
    "\n",
    "assert np.allclose(P, TrueP)"
   ]
  }
 ],
 "metadata": {
  "kernelspec": {
   "display_name": "Python 3 (ipykernel)",
   "language": "python",
   "name": "python3"
  },
  "language_info": {
   "codemirror_mode": {
    "name": "ipython",
    "version": 3
   },
   "file_extension": ".py",
   "mimetype": "text/x-python",
   "name": "python",
   "nbconvert_exporter": "python",
   "pygments_lexer": "ipython3",
   "version": "3.13.7"
  }
 },
 "nbformat": 4,
 "nbformat_minor": 5
}
